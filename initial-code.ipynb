{
 "cells": [
  {
   "cell_type": "code",
   "execution_count": 1,
   "metadata": {},
   "outputs": [
    {
     "name": "stdout",
     "output_type": "stream",
     "text": [
      "         0  1467810369  Mon Apr 06 22:19:45 PDT 2009  NO_QUERY  \\\n",
      "0        0  1467810672  Mon Apr 06 22:19:49 PDT 2009  NO_QUERY   \n",
      "1        0  1467810917  Mon Apr 06 22:19:53 PDT 2009  NO_QUERY   \n",
      "2        0  1467811184  Mon Apr 06 22:19:57 PDT 2009  NO_QUERY   \n",
      "3        0  1467811193  Mon Apr 06 22:19:57 PDT 2009  NO_QUERY   \n",
      "4        0  1467811372  Mon Apr 06 22:20:00 PDT 2009  NO_QUERY   \n",
      "...     ..         ...                           ...       ...   \n",
      "1599994  4  2193601966  Tue Jun 16 08:40:49 PDT 2009  NO_QUERY   \n",
      "1599995  4  2193601969  Tue Jun 16 08:40:49 PDT 2009  NO_QUERY   \n",
      "1599996  4  2193601991  Tue Jun 16 08:40:49 PDT 2009  NO_QUERY   \n",
      "1599997  4  2193602064  Tue Jun 16 08:40:49 PDT 2009  NO_QUERY   \n",
      "1599998  4  2193602129  Tue Jun 16 08:40:50 PDT 2009  NO_QUERY   \n",
      "\n",
      "         _TheSpecialOne_  \\\n",
      "0          scotthamilton   \n",
      "1               mattycus   \n",
      "2                ElleCTF   \n",
      "3                 Karoli   \n",
      "4               joy_wolf   \n",
      "...                  ...   \n",
      "1599994  AmandaMarie1028   \n",
      "1599995      TheWDBoards   \n",
      "1599996           bpbabe   \n",
      "1599997     tinydiamondz   \n",
      "1599998   RyanTrevMorris   \n",
      "\n",
      "        @switchfoot http://twitpic.com/2y1zl - Awww, that's a bummer.  You shoulda got David Carr of Third Day to do it. ;D  \\\n",
      "0        is upset that he can't update his Facebook by ...                                                                    \n",
      "1        @Kenichan I dived many times for the ball. Man...                                                                    \n",
      "2          my whole body feels itchy and like its on fire                                                                     \n",
      "3        @nationwideclass no, it's not behaving at all....                                                                    \n",
      "4                            @Kwesidei not the whole crew                                                                     \n",
      "...                                                    ...                                                                    \n",
      "1599994  Just woke up. Having no school is the best fee...                                                                    \n",
      "1599995  TheWDB.com - Very cool to hear old Walt interv...                                                                    \n",
      "1599996  Are you ready for your MoJo Makeover? Ask me f...                                                                    \n",
      "1599997  Happy 38th Birthday to my boo of alll time!!! ...                                                                    \n",
      "1599998  happy #charitytuesday @theNSPCC @SparksCharity...                                                                    \n",
      "\n",
      "                      China  \n",
      "0        Dominican Republic  \n",
      "1                   Germany  \n",
      "2                    Brazil  \n",
      "3                 Argentina  \n",
      "4                 Australia  \n",
      "...                     ...  \n",
      "1599994               Japan  \n",
      "1599995               Spain  \n",
      "1599996             Nigeria  \n",
      "1599997           Argentina  \n",
      "1599998           Indonesia  \n",
      "\n",
      "[1599999 rows x 7 columns]\n"
     ]
    }
   ],
   "source": [
    "import pandas as pd  \n",
    "    \n",
    "# making dataframe  \n",
    "df = pd.read_csv(\"sentiment140_with_location.csv\")  \n",
    "   \n",
    "# output the dataframe \n",
    "print(df)"
   ]
  },
  {
   "cell_type": "code",
   "execution_count": 3,
   "metadata": {},
   "outputs": [
    {
     "name": "stdout",
     "output_type": "stream",
     "text": [
      "0                                                                                                                                                                      0\n",
      "1467810369                                                                                                                                                    1467810672\n",
      "Mon Apr 06 22:19:45 PDT 2009                                                                                                                Mon Apr 06 22:19:49 PDT 2009\n",
      "NO_QUERY                                                                                                                                                        NO_QUERY\n",
      "_TheSpecialOne_                                                                                                                                            scotthamilton\n",
      "@switchfoot http://twitpic.com/2y1zl - Awww, that's a bummer.  You shoulda got David Carr of Third Day to do it. ;D    is upset that he can't update his Facebook by ...\n",
      "China                                                                                                                                                 Dominican Republic\n",
      "Name: 0, dtype: object\n"
     ]
    }
   ],
   "source": [
    "print(df.loc[0])"
   ]
  }
 ],
 "metadata": {
  "kernelspec": {
   "display_name": "Python 3",
   "language": "python",
   "name": "python3"
  },
  "language_info": {
   "codemirror_mode": {
    "name": "ipython",
    "version": 3
   },
   "file_extension": ".py",
   "mimetype": "text/x-python",
   "name": "python",
   "nbconvert_exporter": "python",
   "pygments_lexer": "ipython3",
   "version": "3.12.0"
  }
 },
 "nbformat": 4,
 "nbformat_minor": 2
}
