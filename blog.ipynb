{
 "cells": [
  {
   "cell_type": "markdown",
   "metadata": {},
   "source": [
    "blog post should include:\n",
    "\n",
    "The hook. Why study this collection? What makes it interesting? What research question are you asking?\n",
    "\n",
    "Methods and metrics. Rather than a formal academic paper treatment (\"We used RoBERTa Large with XY parameters...\"), I'm expecting a more informal but also descriptive treatment of what models or metrics you used, why you used them, and how they work. Showing off examples for how to compute a metric or what inputs/outputs look like can help here, as well as making diagrams of pieces of the process.\n",
    "\n",
    "Code snippets. Include code showing key steps in your process (if not the whole process). You don't have to annotate every piece of these in detail, but try to make the code at least somewhat human-friendly. If you're going the Jupyter Notebook route, the code + uploading your data files should be sufficient to reproduce all your results, there may be some slower processing that you prefer to do in advance; just provide a link in the notebook to where any other resources (code, processed versions of data files, etc.) live if you'd prefer to omit those. If you're taking a more prose-based approach, it may make more sense to just include a few key passages that you explain more, but I'd like to see at least three different \"interesting\" pieces of code: e.g. doing text processing, running models, or computing metrics.\n",
    "\n",
    "Results. What did you find out? How confident are you of these results? It's a good idea to mix aggregate statistics/findings with specific examples of documents that match (or are outliers of) a particular trend."
   ]
  },
  {
   "cell_type": "markdown",
   "metadata": {},
   "source": [
    "# Introduction\n",
    "\n",
    "Language is complex. Just a few words can convey intense feelings. Some may argue that Twitter tweets are toxic. Is that really the case? Can we train machine learning models to predict the overall sentiment of just a few words in a tweet? \n",
    "\n",
    "We are studying a dataset of [Sentiment with 1.6 million tweets with locations](https://www.kaggle.com/datasets/vivekchary/sentiment-with-16-million-tweets-with-locations) found on Kaggle. This dataset consists of 1.6 million tweets from 2009-2017. A majority of these tweets are in English, and they originate from 33 different countries (approximately evenly distributed within the dataset). Each tweet also has a labeled sentiment score, with 0 = negative, 2 = neutral, and 4 = positive.\n",
    "\n",
    "Our research question consists of two parts: Can we accurately predict the sentiment of a tweet, and does the location of a tweet influence sentiment?"
   ]
  },
  {
   "cell_type": "markdown",
   "metadata": {},
   "source": [
    "# Methods and Metrics\n",
    "\n",
    "Before getting into the models, we found that 1.6 million tweets is a lot to parse. We chose to use a sample of this dataset by shuffling (for randomness) and splitting (using 5 parts) to get a smaller dataset of 320,000 tweets. \n",
    "\n",
    "We tested three different models on this smaller dataset: a TextBlob Naive Bayes model, a Natural Language ToolKit pre-trained analyzer using VADER, and a Hugging Face Transformer using BERTweet (a RoBERTa model trained on English tweets.)\n",
    "\n",
    "First, import all functions in `helper_functions.py` by running the code below.\n",
    "\n"
   ]
  },
  {
   "cell_type": "code",
   "execution_count": 1,
   "metadata": {},
   "outputs": [
    {
     "name": "stderr",
     "output_type": "stream",
     "text": [
      "/Library/Frameworks/Python.framework/Versions/3.10/lib/python3.10/site-packages/transformers/utils/generic.py:311: UserWarning: torch.utils._pytree._register_pytree_node is deprecated. Please use torch.utils._pytree.register_pytree_node instead.\n",
      "  torch.utils._pytree._register_pytree_node(\n"
     ]
    }
   ],
   "source": [
    "from helper_functions import *"
   ]
  },
  {
   "cell_type": "markdown",
   "metadata": {},
   "source": [
    "Below is how we processed our 1.6 million tweets into a managable chunk. Note that we drop a few unnecessary column titles like id, date, flag, and user."
   ]
  },
  {
   "cell_type": "code",
   "execution_count": 2,
   "metadata": {},
   "outputs": [
    {
     "data": {
      "text/html": [
       "<div>\n",
       "<style scoped>\n",
       "    .dataframe tbody tr th:only-of-type {\n",
       "        vertical-align: middle;\n",
       "    }\n",
       "\n",
       "    .dataframe tbody tr th {\n",
       "        vertical-align: top;\n",
       "    }\n",
       "\n",
       "    .dataframe thead th {\n",
       "        text-align: right;\n",
       "    }\n",
       "</style>\n",
       "<table border=\"1\" class=\"dataframe\">\n",
       "  <thead>\n",
       "    <tr style=\"text-align: right;\">\n",
       "      <th></th>\n",
       "      <th>target</th>\n",
       "      <th>text</th>\n",
       "      <th>location</th>\n",
       "    </tr>\n",
       "  </thead>\n",
       "  <tbody>\n",
       "    <tr>\n",
       "      <th>1333545</th>\n",
       "      <td>4</td>\n",
       "      <td>@WalkingHorse Good Morning! Thanks for the info</td>\n",
       "      <td>China</td>\n",
       "    </tr>\n",
       "    <tr>\n",
       "      <th>985391</th>\n",
       "      <td>4</td>\n",
       "      <td>@fostress i like the word polopoly</td>\n",
       "      <td>Russia</td>\n",
       "    </tr>\n",
       "    <tr>\n",
       "      <th>1044360</th>\n",
       "      <td>4</td>\n",
       "      <td>In case you ain't seen the new Dr. Pepper/Dr. ...</td>\n",
       "      <td>Jamaica</td>\n",
       "    </tr>\n",
       "    <tr>\n",
       "      <th>613122</th>\n",
       "      <td>0</td>\n",
       "      <td>I dont want to go home</td>\n",
       "      <td>Dominican Republic</td>\n",
       "    </tr>\n",
       "    <tr>\n",
       "      <th>40766</th>\n",
       "      <td>0</td>\n",
       "      <td>making PowerP -&amp;gt; last minute</td>\n",
       "      <td>Ecuador</td>\n",
       "    </tr>\n",
       "    <tr>\n",
       "      <th>...</th>\n",
       "      <td>...</td>\n",
       "      <td>...</td>\n",
       "      <td>...</td>\n",
       "    </tr>\n",
       "    <tr>\n",
       "      <th>202892</th>\n",
       "      <td>0</td>\n",
       "      <td>@DJWebstar are u still mad at me again homie!!...</td>\n",
       "      <td>Nigeria</td>\n",
       "    </tr>\n",
       "    <tr>\n",
       "      <th>1103245</th>\n",
       "      <td>4</td>\n",
       "      <td>is happy with my GHWT band set.... just love t...</td>\n",
       "      <td>South Africa</td>\n",
       "    </tr>\n",
       "    <tr>\n",
       "      <th>893008</th>\n",
       "      <td>4</td>\n",
       "      <td>eatin chicharones, talkin 2 vale, thinkin bout...</td>\n",
       "      <td>Indonesia</td>\n",
       "    </tr>\n",
       "    <tr>\n",
       "      <th>379744</th>\n",
       "      <td>0</td>\n",
       "      <td>@iam_Casper82 too bad! i'll try to check Anoop...</td>\n",
       "      <td>UK</td>\n",
       "    </tr>\n",
       "    <tr>\n",
       "      <th>401277</th>\n",
       "      <td>0</td>\n",
       "      <td>On my way home.. Dammit that rope fucked up my...</td>\n",
       "      <td>Tanzania</td>\n",
       "    </tr>\n",
       "  </tbody>\n",
       "</table>\n",
       "<p>320000 rows × 3 columns</p>\n",
       "</div>"
      ],
      "text/plain": [
       "         target                                               text  \\\n",
       "1333545       4   @WalkingHorse Good Morning! Thanks for the info    \n",
       "985391        4                @fostress i like the word polopoly    \n",
       "1044360       4  In case you ain't seen the new Dr. Pepper/Dr. ...   \n",
       "613122        0                            I dont want to go home    \n",
       "40766         0                   making PowerP -&gt; last minute    \n",
       "...         ...                                                ...   \n",
       "202892        0  @DJWebstar are u still mad at me again homie!!...   \n",
       "1103245       4  is happy with my GHWT band set.... just love t...   \n",
       "893008        4  eatin chicharones, talkin 2 vale, thinkin bout...   \n",
       "379744        0  @iam_Casper82 too bad! i'll try to check Anoop...   \n",
       "401277        0  On my way home.. Dammit that rope fucked up my...   \n",
       "\n",
       "                   location  \n",
       "1333545               China  \n",
       "985391               Russia  \n",
       "1044360             Jamaica  \n",
       "613122   Dominican Republic  \n",
       "40766               Ecuador  \n",
       "...                     ...  \n",
       "202892              Nigeria  \n",
       "1103245        South Africa  \n",
       "893008            Indonesia  \n",
       "379744                   UK  \n",
       "401277             Tanzania  \n",
       "\n",
       "[320000 rows x 3 columns]"
      ]
     },
     "execution_count": 2,
     "metadata": {},
     "output_type": "execute_result"
    }
   ],
   "source": [
    "# our downloaded data file is in the folder data/\n",
    "df = pd.read_csv(\"data/sentiment140_with_location.csv\", names=['target','id','date','flag','user','text', 'location']) \n",
    "shuffled = df.sample(frac = 1)\n",
    "result = np.array_split(shuffled, 5)\n",
    "split_df = result[0]\n",
    "split_df = split_df.drop(['id', 'date', 'flag', 'user'], axis=1)\n",
    "split_df"
   ]
  },
  {
   "cell_type": "markdown",
   "metadata": {},
   "source": [
    "## Naive Bayes\n",
    "\n",
    "The first model we used was a Naive Bayes classifier from the Textblob library. The Naive Bayes classifier is a supervised machine learning binary classifier that is based on probability. To use this classifier, we trained the model on a portion of our dataset for a given country. This entailed getting all of the tweets for a country, splitting our dataset in a train test split, which was about 80% train and 20% test. Each example used in training has a \"pos\" or \"neg\" label along with the tweet text. After training, we give our model an example from the test set, have it predict the sentiment based on the text, and then we compare the predicted sentiment to the actual sentiment label. We wanted to use the Naive Bayes classifier because we wanted to train our own model and learned about it in class. Note that each classifier we train is based on tweets and sentiment for a given country. Below is the code to train and test the classifier for tweets in the USA.  \n"
   ]
  },
  {
   "cell_type": "code",
   "execution_count": 3,
   "metadata": {},
   "outputs": [
    {
     "name": "stdout",
     "output_type": "stream",
     "text": [
      "0.7417864476386037\n"
     ]
    }
   ],
   "source": [
    "# Naive Bayes Classifier\n",
    "dataset = getLocationTweetsWithSentiment(split_df, \"USA\")\n",
    "train = dataset[:int(0.8*len(dataset))] # change this so that its actually a train test split \n",
    "test = dataset[int(0.8*len(dataset)):]\n",
    "\n",
    "cl = NaiveBayesClassifier(train) # train needs tuples of text and pos/neg\n",
    "correct = 0\n",
    "for text, sentiment in test:\n",
    "    pred = cl.classify(text)\n",
    "    correct += (pred == sentiment)\n",
    "print(correct/len(test))"
   ]
  },
  {
   "cell_type": "markdown",
   "metadata": {},
   "source": [
    "From the code above, we can see that the Naive Bayes classifier that is trained on our data got an accuracy of about 74%. "
   ]
  },
  {
   "cell_type": "markdown",
   "metadata": {},
   "source": [
    "## NLTK Sentiment Intensity Analyzer\n",
    "\n",
    "The second model that we used was the [Natural Language ToolKit Sentiment Intensity Analyzer](https://realpython.com/python-nltk-sentiment-analysis/). This model is a pre-trained sentiment analyzer using VADER (Valence Aware Dictionary and sEntiment Reasoner). We chose this model because we wanted to see how accurate a pre-trained sentiment analyzer would be on our dataset. This pre-trained analyzer also works best on small snippets of text from social media, like tweets! To use this model, run the following commands. First, usenload necessary resources for the SIA model: pip to install NLTK in your terminal:\n",
    "dow"
   ]
  },
  {
   "cell_type": "code",
   "execution_count": 3,
   "metadata": {},
   "outputs": [
    {
     "ename": "SyntaxError",
     "evalue": "invalid syntax (1534887517.py, line 1)",
     "output_type": "error",
     "traceback": [
      "\u001b[0;36m  Input \u001b[0;32mIn [3]\u001b[0;36m\u001b[0m\n\u001b[0;31m    python3 -m pip install nltk\u001b[0m\n\u001b[0m               ^\u001b[0m\n\u001b[0;31mSyntaxError\u001b[0m\u001b[0;31m:\u001b[0m invalid syntax\n"
     ]
    }
   ],
   "source": [
    "nltk.download([\n",
    "    \"names\",\n",
    "    \"stopwords\",\n",
    "    \"state_union\",\n",
    "    \"twitter_samples\",\n",
    "    \"movie_reviews\",\n",
    "    \"averaged_perceptron_tagger\",\n",
    "    \"vader_lexicon\",\n",
    "    \"punkt\"])"
   ]
  },
  {
   "cell_type": "markdown",
   "metadata": {},
   "source": [
    "Next, create a SentimentIntensityAnalyzer and find sentiment scores for text. We looped through the tweets in `test` and used the polarity_scores() function to find sentiment scores. \n",
    "\n",
    "polarity_scores() returns a dictionary with the keys `pos` (positive score), `neg` (negative score), `neu` (neutral score), and `compound` (compounded score). The scores of `pos`, `neg`, and `neu` add up to 1, and `compound` is a combination of the previous keys such that it equals 0 if the overall score is neutral, <0 if the overall score is negative, and >0 if the overall score is positive.\n",
    "\n",
    "In the following code snippet, We use the value of `compound` to determine the sentiment score and compare this with the actual labeled score to get the accuracy of this model. Since none of the tweets in our dataset have a neutral score, we change all `neu` predictions by the model to `pos` predictions."
   ]
  },
  {
   "cell_type": "code",
   "execution_count": 2,
   "metadata": {},
   "outputs": [
    {
     "name": "stderr",
     "output_type": "stream",
     "text": [
      "[nltk_data] <urlopen error [SSL: CERTIFICATE_VERIFY_FAILED]\n",
      "[nltk_data]     certificate verify failed: unable to get local issuer\n",
      "[nltk_data]     certificate (_ssl.c:997)>\n"
     ]
    },
    {
     "data": {
      "text/plain": [
       "False"
      ]
     },
     "execution_count": 2,
     "metadata": {},
     "output_type": "execute_result"
    }
   ],
   "source": [
    "sia = SentimentIntensityAnalyzer()\n",
    "correct = 0\n",
    "\n",
    "for text, sentiment in test:\n",
    "    sia_pred = sia.polarity_scores(text)\n",
    "    if sia_pred[\"compound\"] < 0:\n",
    "        pred = \"neg\"\n",
    "    else:\n",
    "        pred = \"pos\"\n",
    "    correct += (pred == sentiment)\n",
    "\n",
    "print(\"SIA accuracy:\", correct/len(test))"
   ]
  },
  {
   "cell_type": "markdown",
   "metadata": {},
   "source": [
    "As you can see, our SIA model performs worse than our Naive Bayes model. \n",
    "\n",
    "(reasoning why)"
   ]
  },
  {
   "cell_type": "markdown",
   "metadata": {},
   "source": [
    "## Hugging Face Transformer\n",
    "\n",
    "The final model that we looked at was a Hugging Face Transformer built off of [BERTweet](https://github.com/VinAIResearch/BERTweet), a RoBERTa model trained on English tweets. This model is trained with SemEval 2017 corpus, which includes around 40,000 tweets. We chose to use this model because it was built specifically for tweets, and we wanted to see if another pre-trained model would yield similar results as our NLTK SIA model. This model takes in an array of strings to analyze and returns an array of dictionaries of the same length. Each dictionary has exactly two items, a `label` that signifies the sentiment and can equal `POS`, `NEG`, or `NEU`, and a `score` that represents the certainty probability of the label. To use this model, run the following steps:"
   ]
  },
  {
   "cell_type": "code",
   "execution_count": null,
   "metadata": {},
   "outputs": [],
   "source": [
    "specific_model = pipeline(model=\"finiteautomata/bertweet-base-sentiment-analysis\")\n",
    "\n",
    "# get array of strings to analyze\n",
    "data = [text for text, sentiment in test]\n",
    "\n",
    "# store results of model\n",
    "results = specific_model(data)"
   ]
  },
  {
   "cell_type": "markdown",
   "metadata": {},
   "source": [
    "Now we interate through results to find the accuracy of the model. Note that we also convert `NEU` scores to `pos` scores in this model since our dataset does not have any neutral labels."
   ]
  },
  {
   "cell_type": "code",
   "execution_count": null,
   "metadata": {},
   "outputs": [],
   "source": [
    "correct = 0\n",
    "\n",
    "for i in range(len(results)):\n",
    "    pred = results[i]['label'].lower()\n",
    "    sentiment = test[i][1]\n",
    "    if pred == 'neu':\n",
    "        pred = \"pos\"\n",
    "    correct += (pred == sentiment)\n",
    "\n",
    "print(\"HF accuracy:\", correct/len(test))"
   ]
  },
  {
   "cell_type": "markdown",
   "metadata": {},
   "source": [
    "explanation of hf results + connect to previous model\n",
    "\n",
    "talk about neutral labels affecting accuracy"
   ]
  },
  {
   "cell_type": "markdown",
   "metadata": {},
   "source": [
    "## Results"
   ]
  },
  {
   "cell_type": "markdown",
   "metadata": {},
   "source": [
    "Overall, the results suggest that Naive Bayes is the most accurate model, with roughly 70% accuracy. SIA and hugging face got roughly 60% accuracy. (JULIA INSERT EXPLANATIONS ON THE NEUTRAL AND MISLABELING OF STUFF)\n",
    "\n",
    "Below we show three different graphs, each representing the average predicted sentiment for four countries' tweets, using the classifiers. The first uses the Naive Bayes classifier and we can compare the actual sentiment to the predicted sentiment for USA, China, Spain, and Canada."
   ]
  },
  {
   "cell_type": "code",
   "execution_count": 3,
   "metadata": {},
   "outputs": [],
   "source": [
    "locations = [\"USA\", \"China\", \"Spain\", \"Canada\"]\n",
    "data = getSortedLocationScores(split_df)\n",
    "\n",
    "actual_sentiments = {\n",
    "    'USA': data[\"USA\"],\n",
    "    'China': data[\"China\"],\n",
    "    'Spain': data[\"Spain\"],\n",
    "    'Canada': data[\"Canada\"]}"
   ]
  },
  {
   "cell_type": "code",
   "execution_count": 4,
   "metadata": {},
   "outputs": [
    {
     "data": {
      "image/png": "[encoded data removed]",
      "text/plain": [
       "<Figure size 432x288 with 1 Axes>"
      ]
     },
     "metadata": {
      "needs_background": "light"
     },
     "output_type": "display_data"
    }
   ],
   "source": [
    "# Naive Bayes\n",
    "predicted_sentiments_nb = {\n",
    "    'USA': averageSentimentByLocation(\"USA\", split_df),\n",
    "    'China': averageSentimentByLocation(\"China\", split_df),\n",
    "    'Spain': averageSentimentByLocation(\"Spain\", split_df),\n",
    "    'Canada': averageSentimentByLocation(\"Canada\", split_df)\n",
    "}\n",
    "\n",
    "plot_grouped_bar(locations, actual_sentiments, predicted_sentiments_nb, \"Naive Bayes\")"
   ]
  },
  {
   "cell_type": "markdown",
   "metadata": {},
   "source": [
    "From the graph above, we see how Naive Bayes compares to the actual average sentiment of the locations from the dataset. It appears that the predicted sentiment lean more towards an average of less than 2, suggesting that more of its predictions are negative rather than positive. However, it is clear that most of the results for the average sentiment for these locations is generally neutral, and is quite clse to the actual average sentiment. Since this model is trained on the dataset, this result is not very surprising."
   ]
  },
  {
   "cell_type": "code",
   "execution_count": null,
   "metadata": {},
   "outputs": [],
   "source": [
    "# Sentiment Intensity Analyzer\n",
    "predicted_sentiments_sia = {\n",
    "    'USA': averageSentimentByLocation_sia(\"USA\", split_df),\n",
    "    'China': averageSentimentByLocation_sia(\"China\", split_df),\n",
    "    'Spain': averageSentimentByLocation_sia(\"Spain\", split_df),\n",
    "    'Canada': averageSentimentByLocation_sia(\"Canada\", split_df)\n",
    "}\n",
    "\n",
    "plot_grouped_bar(locations, actual_sentiments, predicted_sentiments_sia, \"SIA\")"
   ]
  },
  {
   "cell_type": "code",
   "execution_count": null,
   "metadata": {},
   "outputs": [],
   "source": [
    "# Hugging Face Transformer\n",
    "predicted_sentiments_sia = {\n",
    "    'USA': averageSentimentByLocation_hf(\"USA\", split_df),\n",
    "    'China': averageSentimentByLocation_hf(\"China\", split_df),\n",
    "    'Spain': averageSentimentByLocation_hf(\"Spain\", split_df),\n",
    "    'Canada': averageSentimentByLocation_hf(\"Canada\", split_df)\n",
    "}\n",
    "\n",
    "plot_grouped_bar(locations, actual_sentiments, predicted_sentiments_sia, \"Hugging Face\")"
   ]
  },
  {
   "cell_type": "markdown",
   "metadata": {},
   "source": [
    "# Sources\n",
    "\n",
    "- https://www.kaggle.com/datasets/vivekchary/sentiment-with-16-million-tweets-with-locations\n",
    "- https://textblob.readthedocs.io/en/dev/api_reference.html#module-textblob.en.sentiments\n",
    "- https://realpython.com/python-nltk-sentiment-analysis/\n",
    "- https://huggingface.co/finiteautomata/bertweet-base-sentiment-analysis\n"
   ]
  }
 ],
 "metadata": {
  "kernelspec": {
   "display_name": "Python 3",
   "language": "python",
   "name": "python3"
  },
  "language_info": {
   "codemirror_mode": {
    "name": "ipython",
    "version": 3
   },
   "file_extension": ".py",
   "mimetype": "text/x-python",
   "name": "python",
   "nbconvert_exporter": "python",
   "pygments_lexer": "ipython3",
   "version": "3.10.4"
  }
 },
 "nbformat": 4,
 "nbformat_minor": 2
}
