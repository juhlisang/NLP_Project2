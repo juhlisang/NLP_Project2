{
 "cells": [
  {
   "cell_type": "markdown",
   "metadata": {},
   "source": [
    "# Introduction\n",
    "\n",
    "Language is complex. Just a few words can convey intense feelings. Some may argue that Twitter tweets are toxic. Is that really the case? Can we train machine learning models to predict the overall sentiment of just a few words in a tweet? \n",
    "\n",
    "We are studying a dataset of [Sentiment with 1.6 million tweets with locations](https://www.kaggle.com/datasets/vivekchary/sentiment-with-16-million-tweets-with-locations) found on Kaggle. This dataset consists of 1.6 million tweets from 2009-2017. A majority of these tweets are in English, and they originate from 33 different countries (approximately evenly distributed within the dataset). Each tweet also has a labeled sentiment score, with 0 = negative, 2 = neutral, and 4 = positive.\n",
    "\n",
    "Our research question consists of two parts: Can we accurately predict the sentiment of a tweet, and does the location of a tweet influence sentiment?"
   ]
  },
  {
   "cell_type": "markdown",
   "metadata": {},
   "source": [
    "# Methods and Metrics\n",
    "\n",
    "Before getting into the models, we found that 1.6 million tweets is a lot to parse. We chose to use a sample of this dataset by shuffling (for randomness) and splitting (using 5 parts) to get a smaller dataset of 320,000 tweets. \n",
    "\n",
    "We tested three different models on this smaller dataset: a TextBlob Naive Bayes model, a Natural Language ToolKit pre-trained analyzer using VADER, and a Hugging Face Transformer using BERTweet (a RoBERTa model trained on English tweets.)\n",
    "\n",
    "First, import all functions in `helper_functions.py` by running the code below.\n",
    "\n"
   ]
  },
  {
   "cell_type": "code",
   "execution_count": 1,
   "metadata": {},
   "outputs": [
    {
     "name": "stderr",
     "output_type": "stream",
     "text": [
      "c:\\Python312\\Lib\\site-packages\\tqdm\\auto.py:21: TqdmWarning: IProgress not found. Please update jupyter and ipywidgets. See https://ipywidgets.readthedocs.io/en/stable/user_install.html\n",
      "  from .autonotebook import tqdm as notebook_tqdm\n"
     ]
    }
   ],
   "source": [
    "from helper_functions import *"
   ]
  },
  {
   "cell_type": "markdown",
   "metadata": {},
   "source": [
    "Below is how we processed our 1.6 million tweets into a managable chunk. Note that we drop a few unnecessary column titles like id, date, flag, and user."
   ]
  },
  {
   "cell_type": "code",
   "execution_count": 2,
   "metadata": {},
   "outputs": [
    {
     "name": "stderr",
     "output_type": "stream",
     "text": [
      "c:\\Python312\\Lib\\site-packages\\numpy\\core\\fromnumeric.py:59: FutureWarning: 'DataFrame.swapaxes' is deprecated and will be removed in a future version. Please use 'DataFrame.transpose' instead.\n",
      "  return bound(*args, **kwds)\n"
     ]
    },
    {
     "data": {
      "text/html": [
       "<div>\n",
       "<style scoped>\n",
       "    .dataframe tbody tr th:only-of-type {\n",
       "        vertical-align: middle;\n",
       "    }\n",
       "\n",
       "    .dataframe tbody tr th {\n",
       "        vertical-align: top;\n",
       "    }\n",
       "\n",
       "    .dataframe thead th {\n",
       "        text-align: right;\n",
       "    }\n",
       "</style>\n",
       "<table border=\"1\" class=\"dataframe\">\n",
       "  <thead>\n",
       "    <tr style=\"text-align: right;\">\n",
       "      <th></th>\n",
       "      <th>target</th>\n",
       "      <th>text</th>\n",
       "      <th>location</th>\n",
       "    </tr>\n",
       "  </thead>\n",
       "  <tbody>\n",
       "    <tr>\n",
       "      <th>1195392</th>\n",
       "      <td>4</td>\n",
       "      <td>41 days until @sebastianhull and I are united</td>\n",
       "      <td>New Zealand</td>\n",
       "    </tr>\n",
       "    <tr>\n",
       "      <th>223146</th>\n",
       "      <td>0</td>\n",
       "      <td>I bet that now since I'm on nothing awesome wi...</td>\n",
       "      <td>Antarctica</td>\n",
       "    </tr>\n",
       "    <tr>\n",
       "      <th>85808</th>\n",
       "      <td>0</td>\n",
       "      <td>right, this isn't get the chores done ... off ...</td>\n",
       "      <td>India</td>\n",
       "    </tr>\n",
       "    <tr>\n",
       "      <th>461369</th>\n",
       "      <td>0</td>\n",
       "      <td>this darn insomnia.... and i can't even do any...</td>\n",
       "      <td>Italy</td>\n",
       "    </tr>\n",
       "    <tr>\n",
       "      <th>980389</th>\n",
       "      <td>4</td>\n",
       "      <td>@KekonaGirl $10, so I am offering it to you fo...</td>\n",
       "      <td>Italy</td>\n",
       "    </tr>\n",
       "    <tr>\n",
       "      <th>...</th>\n",
       "      <td>...</td>\n",
       "      <td>...</td>\n",
       "      <td>...</td>\n",
       "    </tr>\n",
       "    <tr>\n",
       "      <th>383364</th>\n",
       "      <td>0</td>\n",
       "      <td>@shaundiviney @andyclemmensen @shaunjumpnow . ...</td>\n",
       "      <td>Antarctica</td>\n",
       "    </tr>\n",
       "    <tr>\n",
       "      <th>165483</th>\n",
       "      <td>0</td>\n",
       "      <td>So I cannot find my poetry book. It wasn't at ...</td>\n",
       "      <td>Chile</td>\n",
       "    </tr>\n",
       "    <tr>\n",
       "      <th>70385</th>\n",
       "      <td>0</td>\n",
       "      <td>@j4smyne why not? what else you got thats bett...</td>\n",
       "      <td>Germany</td>\n",
       "    </tr>\n",
       "    <tr>\n",
       "      <th>487727</th>\n",
       "      <td>0</td>\n",
       "      <td>what to do! i need to go out somewhere. too ba...</td>\n",
       "      <td>Chile</td>\n",
       "    </tr>\n",
       "    <tr>\n",
       "      <th>1166123</th>\n",
       "      <td>4</td>\n",
       "      <td>@iiines hii  dear!!</td>\n",
       "      <td>South Africa</td>\n",
       "    </tr>\n",
       "  </tbody>\n",
       "</table>\n",
       "<p>320000 rows × 3 columns</p>\n",
       "</div>"
      ],
      "text/plain": [
       "         target                                               text  \\\n",
       "1195392       4     41 days until @sebastianhull and I are united    \n",
       "223146        0  I bet that now since I'm on nothing awesome wi...   \n",
       "85808         0  right, this isn't get the chores done ... off ...   \n",
       "461369        0  this darn insomnia.... and i can't even do any...   \n",
       "980389        4  @KekonaGirl $10, so I am offering it to you fo...   \n",
       "...         ...                                                ...   \n",
       "383364        0  @shaundiviney @andyclemmensen @shaunjumpnow . ...   \n",
       "165483        0  So I cannot find my poetry book. It wasn't at ...   \n",
       "70385         0  @j4smyne why not? what else you got thats bett...   \n",
       "487727        0  what to do! i need to go out somewhere. too ba...   \n",
       "1166123       4                               @iiines hii  dear!!    \n",
       "\n",
       "             location  \n",
       "1195392   New Zealand  \n",
       "223146     Antarctica  \n",
       "85808           India  \n",
       "461369          Italy  \n",
       "980389          Italy  \n",
       "...               ...  \n",
       "383364     Antarctica  \n",
       "165483          Chile  \n",
       "70385         Germany  \n",
       "487727          Chile  \n",
       "1166123  South Africa  \n",
       "\n",
       "[320000 rows x 3 columns]"
      ]
     },
     "execution_count": 2,
     "metadata": {},
     "output_type": "execute_result"
    }
   ],
   "source": [
    "# our downloaded data file is in the folder data/\n",
    "df = pd.read_csv(\"data/sentiment140_with_location.csv\", names=['target','id','date','flag','user','text', 'location']) \n",
    "shuffled = df.sample(frac = 1)\n",
    "result = np.array_split(shuffled, 5)\n",
    "split_df = result[0]\n",
    "split_df = split_df.drop(['id', 'date', 'flag', 'user'], axis=1)\n",
    "split_df"
   ]
  },
  {
   "cell_type": "markdown",
   "metadata": {},
   "source": [
    "## Naive Bayes\n",
    "\n",
    "The first model we used was a Naive Bayes classifier from the Textblob library. The Naive Bayes classifier is a supervised machine learning binary classifier that is based on probability. To use this classifier, we trained the model on a portion of our dataset for a given country. This entailed getting all of the tweets for a country, splitting our dataset in a train test split, which was about 80% train and 20% test. Each example used in training has a \"pos\" or \"neg\" label along with the tweet text. After training, we give our model an example from the test set, have it predict the sentiment based on the text, and then we compare the predicted sentiment to the actual sentiment label. We wanted to use the Naive Bayes classifier because we wanted to train our own model and learned about it in class. Note that each classifier we train is based on tweets and sentiment for a given country. Below is the code to train and test the classifier for tweets in the USA.  \n"
   ]
  },
  {
   "cell_type": "code",
   "execution_count": 3,
   "metadata": {},
   "outputs": [],
   "source": [
    "dataset = getLocationTweetsWithSentiment(split_df, \"USA\")\n",
    "train = dataset[:int(0.8*len(dataset))]\n",
    "test = dataset[int(0.8*len(dataset)):]"
   ]
  },
  {
   "cell_type": "code",
   "execution_count": 3,
   "metadata": {},
   "outputs": [
    {
     "name": "stdout",
     "output_type": "stream",
     "text": [
      "0.7417864476386037\n"
     ]
    }
   ],
   "source": [
    "# Naive Bayes Classifier\n",
    "cl = NaiveBayesClassifier(train) # train needs tuples of text and pos/neg\n",
    "correct = 0\n",
    "for text, sentiment in test:\n",
    "    pred = cl.classify(text)\n",
    "    correct += (pred == sentiment)\n",
    "print(correct/len(test))"
   ]
  },
  {
   "cell_type": "markdown",
   "metadata": {},
   "source": [
    "From the code above, we can see that the Naive Bayes classifier that is trained on our data got an accuracy of about 74%. "
   ]
  },
  {
   "cell_type": "markdown",
   "metadata": {},
   "source": [
    "## NLTK Sentiment Intensity Analyzer\n",
    "\n",
    "The second model that we used was the [Natural Language ToolKit Sentiment Intensity Analyzer](https://realpython.com/python-nltk-sentiment-analysis/). This model is a pre-trained sentiment analyzer using VADER (Valence Aware Dictionary and sEntiment Reasoner). We chose this model because we wanted to see how accurate a pre-trained sentiment analyzer would be on our dataset. This pre-trained analyzer also works best on small snippets of text from social media, like tweets! To use this model, run the following commands. First, usenload necessary resources for the SIA model: pip to install NLTK in your terminal:\n",
    "dow"
   ]
  },
  {
   "cell_type": "code",
   "execution_count": 4,
   "metadata": {},
   "outputs": [
    {
     "name": "stderr",
     "output_type": "stream",
     "text": [
      "[nltk_data] Downloading package names to\n",
      "[nltk_data]     C:\\Users\\jhsin\\AppData\\Roaming\\nltk_data...\n",
      "[nltk_data]   Package names is already up-to-date!\n",
      "[nltk_data] Downloading package stopwords to\n",
      "[nltk_data]     C:\\Users\\jhsin\\AppData\\Roaming\\nltk_data...\n",
      "[nltk_data]   Package stopwords is already up-to-date!\n",
      "[nltk_data] Downloading package state_union to\n",
      "[nltk_data]     C:\\Users\\jhsin\\AppData\\Roaming\\nltk_data...\n",
      "[nltk_data]   Package state_union is already up-to-date!\n",
      "[nltk_data] Downloading package twitter_samples to\n",
      "[nltk_data]     C:\\Users\\jhsin\\AppData\\Roaming\\nltk_data...\n",
      "[nltk_data]   Package twitter_samples is already up-to-date!\n",
      "[nltk_data] Downloading package movie_reviews to\n",
      "[nltk_data]     C:\\Users\\jhsin\\AppData\\Roaming\\nltk_data...\n",
      "[nltk_data]   Package movie_reviews is already up-to-date!\n",
      "[nltk_data] Downloading package averaged_perceptron_tagger to\n",
      "[nltk_data]     C:\\Users\\jhsin\\AppData\\Roaming\\nltk_data...\n",
      "[nltk_data]   Package averaged_perceptron_tagger is already up-to-\n",
      "[nltk_data]       date!\n",
      "[nltk_data] Downloading package vader_lexicon to\n",
      "[nltk_data]     C:\\Users\\jhsin\\AppData\\Roaming\\nltk_data...\n",
      "[nltk_data]   Package vader_lexicon is already up-to-date!\n",
      "[nltk_data] Downloading package punkt to\n",
      "[nltk_data]     C:\\Users\\jhsin\\AppData\\Roaming\\nltk_data...\n",
      "[nltk_data]   Package punkt is already up-to-date!\n"
     ]
    },
    {
     "data": {
      "text/plain": [
       "True"
      ]
     },
     "execution_count": 4,
     "metadata": {},
     "output_type": "execute_result"
    }
   ],
   "source": [
    "nltk.download([\n",
    "    \"names\",\n",
    "    \"stopwords\",\n",
    "    \"state_union\",\n",
    "    \"twitter_samples\",\n",
    "    \"movie_reviews\",\n",
    "    \"averaged_perceptron_tagger\",\n",
    "    \"vader_lexicon\",\n",
    "    \"punkt\"])"
   ]
  },
  {
   "cell_type": "markdown",
   "metadata": {},
   "source": [
    "Next, create a SentimentIntensityAnalyzer and find sentiment scores for text. We looped through the tweets in `test` and used the polarity_scores() function to find sentiment scores. \n",
    "\n",
    "polarity_scores() returns a dictionary with the keys `pos` (positive score), `neg` (negative score), `neu` (neutral score), and `compound` (compounded score). The scores of `pos`, `neg`, and `neu` add up to 1, and `compound` is a combination of the previous keys such that it equals 0 if the overall score is neutral, <0 if the overall score is negative, and >0 if the overall score is positive.\n",
    "\n",
    "In the following code snippet, We use the value of `compound` to determine the sentiment score and compare this with the actual labeled score to get the accuracy of this model. "
   ]
  },
  {
   "cell_type": "code",
   "execution_count": 6,
   "metadata": {},
   "outputs": [
    {
     "name": "stdout",
     "output_type": "stream",
     "text": [
      "SIA accuracy: 0.5161621344279117\n"
     ]
    }
   ],
   "source": [
    "sia = SentimentIntensityAnalyzer()\n",
    "correct = 0\n",
    "\n",
    "for text, sentiment in test:\n",
    "    sia_pred = sia.polarity_scores(text)\n",
    "    if sia_pred[\"compound\"] < 0:\n",
    "        pred = \"neg\"\n",
    "    elif sia_pred[\"compound\"] > 0:\n",
    "        pred = \"pos\"\n",
    "    else:\n",
    "        pred = \"neu\"\n",
    "    correct += (pred == sentiment)\n",
    "\n",
    "print(\"SIA accuracy:\", correct/len(test))"
   ]
  },
  {
   "cell_type": "markdown",
   "metadata": {},
   "source": [
    "As you can see, our SIA model performs significantly worse than our Naive Bayes model.\n",
    "\n"
   ]
  },
  {
   "cell_type": "markdown",
   "metadata": {},
   "source": [
    "## Hugging Face Transformer\n",
    "\n",
    "The final model that we looked at was a Hugging Face Transformer built off of [BERTweet](https://github.com/VinAIResearch/BERTweet), a RoBERTa model trained on English tweets. This model is trained with SemEval 2017 corpus, which includes around 40,000 tweets. We chose to use this model because it was built specifically for tweets, and we wanted to see if another pre-trained model would yield similar results as our NLTK SIA model. This model takes in an array of strings to analyze and returns an array of dictionaries of the same length. Each dictionary has exactly two items, a `label` that signifies the sentiment and can equal `POS`, `NEG`, or `NEU`, and a `score` that represents the certainty probability of the label. To use this model, run the following steps:"
   ]
  },
  {
   "cell_type": "code",
   "execution_count": 7,
   "metadata": {},
   "outputs": [
    {
     "name": "stderr",
     "output_type": "stream",
     "text": [
      "emoji is not installed, thus not converting emoticons or emojis into text. Install emoji: pip3 install emoji==0.6.0\n"
     ]
    }
   ],
   "source": [
    "specific_model = pipeline(model=\"finiteautomata/bertweet-base-sentiment-analysis\")\n",
    "\n",
    "# get array of strings to analyze\n",
    "hf_test = test[:128]\n",
    "data = [text for text, sentiment in hf_test]\n",
    "\n",
    "# store results of model\n",
    "results = specific_model(data)"
   ]
  },
  {
   "cell_type": "markdown",
   "metadata": {},
   "source": [
    "Now we interate through results to find the accuracy of the model. "
   ]
  },
  {
   "cell_type": "code",
   "execution_count": 8,
   "metadata": {},
   "outputs": [
    {
     "name": "stdout",
     "output_type": "stream",
     "text": [
      "HF accuracy: 0.5234375\n"
     ]
    }
   ],
   "source": [
    "correct = 0\n",
    "\n",
    "for i in range(len(results)):\n",
    "    pred = results[i]['label'].lower()\n",
    "    sentiment = hf_test[i][1]\n",
    "    correct += (pred == sentiment)\n",
    "\n",
    "print(\"HF accuracy:\", correct/len(hf_test))"
   ]
  },
  {
   "cell_type": "markdown",
   "metadata": {},
   "source": [
    "The accuracy of the Hugging Face transformer is also significantly lower than our Naive Bayes model, and is comparable to the accuracy of our SIA model. "
   ]
  },
  {
   "cell_type": "markdown",
   "metadata": {},
   "source": [
    "## Results"
   ]
  },
  {
   "cell_type": "markdown",
   "metadata": {},
   "source": [
    "Overall, the results suggest that Naive Bayes is the most accurate model, with roughly 70% accuracy. SIA and hugging face got roughly 50% accuracy. It's interesting how the pre-trained models both scored so poorly and so similarly, and we believe that the structure of the dataset is the culprit. \n",
    "\n",
    "The dataset labels each tweet with a sentiment of either 0 (negative) or 4 (positive), with no 2 (neutral) labels. The pre-trained models both predict around 25-30% of their test data to be neutral, and we believe that this difference causes a significant change in accuracy for the models. \n",
    "\n",
    "We also believe that the dataset contains mislabeled tweets (e.g. tweets given a positive score despite being clearly negative) just from a quick look through of the dataset. This might cause the pre-trained models to score worse than what they actually would score.\n",
    "\n",
    "Below we show three different graphs, each representing the average predicted sentiment for four countries' tweets, using the classifiers. The first uses the Naive Bayes classifier and we can compare the actual sentiment to the predicted sentiment for USA, China, Spain, and Canada."
   ]
  },
  {
   "cell_type": "code",
   "execution_count": 9,
   "metadata": {},
   "outputs": [],
   "source": [
    "# General data used by all models in plotting\n",
    "locations = [\"USA\", \"China\", \"Spain\", \"Canada\"]\n",
    "data = getSortedLocationScores(split_df)\n",
    "\n",
    "actual_sentiments = {\n",
    "    'USA': data[\"USA\"],\n",
    "    'China': data[\"China\"],\n",
    "    'Spain': data[\"Spain\"],\n",
    "    'Canada': data[\"Canada\"]}"
   ]
  },
  {
   "cell_type": "code",
   "execution_count": 4,
   "metadata": {},
   "outputs": [
    {
     "data": {
      "image/png": "[encoded data removed]",
      "text/plain": [
       "<Figure size 432x288 with 1 Axes>"
      ]
     },
     "metadata": {
      "needs_background": "light"
     },
     "output_type": "display_data"
    }
   ],
   "source": [
    "# Naive Bayes\n",
    "predicted_sentiments_nb = {\n",
    "    'USA': averageSentimentByLocation(\"USA\", split_df),\n",
    "    'China': averageSentimentByLocation(\"China\", split_df),\n",
    "    'Spain': averageSentimentByLocation(\"Spain\", split_df),\n",
    "    'Canada': averageSentimentByLocation(\"Canada\", split_df)\n",
    "}\n",
    "\n",
    "plot_grouped_bar(locations, actual_sentiments, predicted_sentiments_nb, \"Naive Bayes\")"
   ]
  },
  {
   "cell_type": "markdown",
   "metadata": {},
   "source": [
    "From the graph above, we see how Naive Bayes compares to the actual average sentiment of the locations from the dataset. It appears that the predicted sentiment lean more towards an average of less than 2, suggesting that more of its predictions are negative rather than positive. However, it is clear that most of the results for the average sentiment for these locations is generally neutral, and is quite close to the actual average sentiment. Since this model is trained on the dataset, this result is not very surprising.\n",
    "\n",
    "Next, we plot the actual and predicted sentiment by location for the NLTK Sentiment Intensity Analyzer model."
   ]
  },
  {
   "cell_type": "code",
   "execution_count": 10,
   "metadata": {},
   "outputs": [
    {
     "data": {
      "image/png": "[encoded data removed]",
      "text/plain": [
       "<Figure size 640x480 with 1 Axes>"
      ]
     },
     "metadata": {},
     "output_type": "display_data"
    }
   ],
   "source": [
    "# Sentiment Intensity Analyzer\n",
    "predicted_sentiments_sia = {\n",
    "    'USA': averageSentimentByLocation_sia(\"USA\", split_df),\n",
    "    'China': averageSentimentByLocation_sia(\"China\", split_df),\n",
    "    'Spain': averageSentimentByLocation_sia(\"Spain\", split_df),\n",
    "    'Canada': averageSentimentByLocation_sia(\"Canada\", split_df)\n",
    "}\n",
    "\n",
    "plot_grouped_bar(locations, actual_sentiments, predicted_sentiments_sia, \"SIA\")"
   ]
  },
  {
   "cell_type": "markdown",
   "metadata": {},
   "source": [
    "The predicted sentiment scores for SIA are much lower than the actual sentiment scores across the four locations. As discussed for the accuracy of this model, we think that the lower sentiment prediction is a result of neutral labels for tweets that are actually labeled 'positive'. The neutral labels may be the reason that the average sentiment prediction is much lower. \n",
    "\n",
    "Next, we repeat the plots for the Hugging Face Transformer model:"
   ]
  },
  {
   "cell_type": "code",
   "execution_count": 11,
   "metadata": {},
   "outputs": [
    {
     "name": "stderr",
     "output_type": "stream",
     "text": [
      "emoji is not installed, thus not converting emoticons or emojis into text. Install emoji: pip3 install emoji==0.6.0\n",
      "emoji is not installed, thus not converting emoticons or emojis into text. Install emoji: pip3 install emoji==0.6.0\n",
      "emoji is not installed, thus not converting emoticons or emojis into text. Install emoji: pip3 install emoji==0.6.0\n",
      "emoji is not installed, thus not converting emoticons or emojis into text. Install emoji: pip3 install emoji==0.6.0\n"
     ]
    },
    {
     "data": {
      "image/png": "[encoded data removed]",
      "text/plain": [
       "<Figure size 640x480 with 1 Axes>"
      ]
     },
     "metadata": {},
     "output_type": "display_data"
    }
   ],
   "source": [
    "# Hugging Face Transformer\n",
    "predicted_sentiments_hf = {\n",
    "    'USA': averageSentimentByLocation_hf(\"USA\", split_df),\n",
    "    'China': averageSentimentByLocation_hf(\"China\", split_df),\n",
    "    'Spain': averageSentimentByLocation_hf(\"Spain\", split_df),\n",
    "    'Canada': averageSentimentByLocation_hf(\"Canada\", split_df)\n",
    "}\n",
    "\n",
    "plot_grouped_bar(locations, actual_sentiments, predicted_sentiments_hf, \"Hugging Face\")"
   ]
  },
  {
   "cell_type": "markdown",
   "metadata": {},
   "source": [
    "Surprisingly, the predicted sentiment of the Hugging Face transformer is generally higher than the actual sentiment! This pre-trained model overfitted, despite also having neutral labels. We believe this means that the tweets that the model labeled as 'neutral' were actually labeled 'negative', leading to a higher average predicted sentiment."
   ]
  },
  {
   "cell_type": "markdown",
   "metadata": {},
   "source": [
    "In conclusion, we found that it's hard to predict sentiment! From dataset faults to differences between models, sentiment is hard to accurately predict. We also found that location doesn't have a significant impact on average sentiment. We only showed results for 4 different countries in this notebook, but we've compared results across all countries and there wasn't a clear distinction of which country may have the most positivity or negativity in tweets. "
   ]
  },
  {
   "cell_type": "markdown",
   "metadata": {},
   "source": [
    "# Sources\n",
    "\n",
    "- https://www.kaggle.com/datasets/vivekchary/sentiment-with-16-million-tweets-with-locations\n",
    "- https://textblob.readthedocs.io/en/dev/api_reference.html#module-textblob.en.sentiments\n",
    "- https://realpython.com/python-nltk-sentiment-analysis/\n",
    "- https://huggingface.co/finiteautomata/bertweet-base-sentiment-analysis\n"
   ]
  }
 ],
 "metadata": {
  "kernelspec": {
   "display_name": "Python 3",
   "language": "python",
   "name": "python3"
  },
  "language_info": {
   "codemirror_mode": {
    "name": "ipython",
    "version": 3
   },
   "file_extension": ".py",
   "mimetype": "text/x-python",
   "name": "python",
   "nbconvert_exporter": "python",
   "pygments_lexer": "ipython3",
   "version": "3.10.4"
  }
 },
 "nbformat": 4,
 "nbformat_minor": 2
}
